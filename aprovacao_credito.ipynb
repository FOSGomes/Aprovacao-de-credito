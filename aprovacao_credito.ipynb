{
 "cells": [
  {
   "cell_type": "markdown",
   "id": "cfde0856",
   "metadata": {},
   "source": [
    "## 1. Preparação dos dados"
   ]
  },
  {
   "cell_type": "code",
   "execution_count": 1,
   "id": "ed8c9918",
   "metadata": {},
   "outputs": [],
   "source": [
    "import matplotlib.pyplot as plt\n",
    "\n",
    "import pandas as pd\n",
    "import numpy as np\n",
    "import seaborn as sns\n",
    "\n",
    "from sklearn.model_selection import train_test_split\n",
    "from sklearn.tree import DecisionTreeClassifier\n",
    "from sklearn import tree\n",
    "from sklearn.metrics import confusion_matrix\n",
    "from sklearn.metrics import plot_confusion_matrix\n"
   ]
  },
  {
   "cell_type": "markdown",
   "id": "9e3e7b65",
   "metadata": {},
   "source": [
    "### 1.1 Limpeza"
   ]
  },
  {
   "cell_type": "code",
   "execution_count": 2,
   "id": "715461c2",
   "metadata": {},
   "outputs": [
    {
     "name": "stdout",
     "output_type": "stream",
     "text": [
      "<class 'pandas.core.frame.DataFrame'>\n",
      "RangeIndex: 110000 entries, 0 to 109999\n",
      "Data columns (total 11 columns):\n",
      " #   Column                                 Non-Null Count   Dtype  \n",
      "---  ------                                 --------------   -----  \n",
      " 0   inadimplente                           110000 non-null  int64  \n",
      " 1   util_linhas_inseguras                  110000 non-null  float64\n",
      " 2   idade                                  110000 non-null  int64  \n",
      " 3   vezes_passou_de_30_59_dias             110000 non-null  int64  \n",
      " 4   razao_debito                           110000 non-null  float64\n",
      " 5   salario_mensal                         88237 non-null   float64\n",
      " 6   numero_linhas_crdto_aberto             110000 non-null  int64  \n",
      " 7   numero_vezes_passou_90_dias            110000 non-null  int64  \n",
      " 8   numero_emprestimos_imobiliarios        110000 non-null  int64  \n",
      " 9   numero_de_vezes_que_passou_60_89_dias  110000 non-null  int64  \n",
      " 10  numero_de_dependentes                  107122 non-null  float64\n",
      "dtypes: float64(4), int64(7)\n",
      "memory usage: 9.2 MB\n"
     ]
    }
   ],
   "source": [
    "#Carregando os dados e verificando sua integridade\n",
    "train_data = pd.read_csv(\"treino.csv\")\n",
    "train_data.info()"
   ]
  },
  {
   "cell_type": "markdown",
   "id": "c65f8837",
   "metadata": {},
   "source": [
    "Existem poucos dados faltantes na coluna número de dependentes, menos de 3% do total. \n",
    "Por serem poucos, podemos descartar as linhas sem prejuíxo significativo à análise mas por hora é melhor não sobrescrever o dataframe.\n",
    "\n",
    "Já na coluna *salario_mensal* temos um grande número de valores nulos. Nesse caso pode-se ignorar os salários completamente ou desconsiderar os clientes com salários não informados. Testaremos as duas estratégias."
   ]
  },
  {
   "cell_type": "markdown",
   "id": "e2021d3c",
   "metadata": {},
   "source": [
    "## 1.2 Manipulação"
   ]
  },
  {
   "cell_type": "markdown",
   "id": "be49b169",
   "metadata": {},
   "source": [
    "Três colunas parecem estar ligadas: *numero_vezes_passou_90_dias, numero_de_vezes_que_passou_60_89_dias* e *vezes_passou_de_30_59_dias*. Pode-se verificar ordenando o banco de dados por um desses atributos e observando os valores mais altos"
   ]
  },
  {
   "cell_type": "code",
   "execution_count": 3,
   "id": "55b6cd92",
   "metadata": {},
   "outputs": [
    {
     "data": {
      "text/html": [
       "<div>\n",
       "<style scoped>\n",
       "    .dataframe tbody tr th:only-of-type {\n",
       "        vertical-align: middle;\n",
       "    }\n",
       "\n",
       "    .dataframe tbody tr th {\n",
       "        vertical-align: top;\n",
       "    }\n",
       "\n",
       "    .dataframe thead th {\n",
       "        text-align: right;\n",
       "    }\n",
       "</style>\n",
       "<table border=\"1\" class=\"dataframe\">\n",
       "  <thead>\n",
       "    <tr style=\"text-align: right;\">\n",
       "      <th></th>\n",
       "      <th>inadimplente</th>\n",
       "      <th>util_linhas_inseguras</th>\n",
       "      <th>idade</th>\n",
       "      <th>vezes_passou_de_30_59_dias</th>\n",
       "      <th>razao_debito</th>\n",
       "      <th>salario_mensal</th>\n",
       "      <th>numero_linhas_crdto_aberto</th>\n",
       "      <th>numero_vezes_passou_90_dias</th>\n",
       "      <th>numero_emprestimos_imobiliarios</th>\n",
       "      <th>numero_de_vezes_que_passou_60_89_dias</th>\n",
       "      <th>numero_de_dependentes</th>\n",
       "    </tr>\n",
       "  </thead>\n",
       "  <tbody>\n",
       "    <tr>\n",
       "      <th>21374</th>\n",
       "      <td>0</td>\n",
       "      <td>1.0</td>\n",
       "      <td>37</td>\n",
       "      <td>98</td>\n",
       "      <td>0.000000</td>\n",
       "      <td>NaN</td>\n",
       "      <td>0</td>\n",
       "      <td>98</td>\n",
       "      <td>0</td>\n",
       "      <td>98</td>\n",
       "      <td>0.0</td>\n",
       "    </tr>\n",
       "    <tr>\n",
       "      <th>77887</th>\n",
       "      <td>1</td>\n",
       "      <td>1.0</td>\n",
       "      <td>37</td>\n",
       "      <td>98</td>\n",
       "      <td>0.000000</td>\n",
       "      <td>6000.0</td>\n",
       "      <td>0</td>\n",
       "      <td>98</td>\n",
       "      <td>0</td>\n",
       "      <td>98</td>\n",
       "      <td>1.0</td>\n",
       "    </tr>\n",
       "    <tr>\n",
       "      <th>12131</th>\n",
       "      <td>1</td>\n",
       "      <td>1.0</td>\n",
       "      <td>50</td>\n",
       "      <td>98</td>\n",
       "      <td>0.000000</td>\n",
       "      <td>1350.0</td>\n",
       "      <td>0</td>\n",
       "      <td>98</td>\n",
       "      <td>0</td>\n",
       "      <td>98</td>\n",
       "      <td>0.0</td>\n",
       "    </tr>\n",
       "    <tr>\n",
       "      <th>45814</th>\n",
       "      <td>1</td>\n",
       "      <td>1.0</td>\n",
       "      <td>50</td>\n",
       "      <td>98</td>\n",
       "      <td>0.000000</td>\n",
       "      <td>NaN</td>\n",
       "      <td>0</td>\n",
       "      <td>98</td>\n",
       "      <td>0</td>\n",
       "      <td>98</td>\n",
       "      <td>0.0</td>\n",
       "    </tr>\n",
       "    <tr>\n",
       "      <th>98603</th>\n",
       "      <td>0</td>\n",
       "      <td>1.0</td>\n",
       "      <td>52</td>\n",
       "      <td>98</td>\n",
       "      <td>0.000000</td>\n",
       "      <td>9016.0</td>\n",
       "      <td>0</td>\n",
       "      <td>98</td>\n",
       "      <td>0</td>\n",
       "      <td>98</td>\n",
       "      <td>2.0</td>\n",
       "    </tr>\n",
       "    <tr>\n",
       "      <th>38540</th>\n",
       "      <td>0</td>\n",
       "      <td>1.0</td>\n",
       "      <td>65</td>\n",
       "      <td>98</td>\n",
       "      <td>0.125475</td>\n",
       "      <td>525.0</td>\n",
       "      <td>0</td>\n",
       "      <td>98</td>\n",
       "      <td>0</td>\n",
       "      <td>98</td>\n",
       "      <td>0.0</td>\n",
       "    </tr>\n",
       "    <tr>\n",
       "      <th>62906</th>\n",
       "      <td>1</td>\n",
       "      <td>1.0</td>\n",
       "      <td>47</td>\n",
       "      <td>98</td>\n",
       "      <td>0.000000</td>\n",
       "      <td>600.0</td>\n",
       "      <td>0</td>\n",
       "      <td>98</td>\n",
       "      <td>0</td>\n",
       "      <td>98</td>\n",
       "      <td>0.0</td>\n",
       "    </tr>\n",
       "    <tr>\n",
       "      <th>42751</th>\n",
       "      <td>0</td>\n",
       "      <td>1.0</td>\n",
       "      <td>22</td>\n",
       "      <td>98</td>\n",
       "      <td>0.000000</td>\n",
       "      <td>201.0</td>\n",
       "      <td>0</td>\n",
       "      <td>98</td>\n",
       "      <td>0</td>\n",
       "      <td>98</td>\n",
       "      <td>0.0</td>\n",
       "    </tr>\n",
       "    <tr>\n",
       "      <th>28291</th>\n",
       "      <td>0</td>\n",
       "      <td>1.0</td>\n",
       "      <td>45</td>\n",
       "      <td>98</td>\n",
       "      <td>0.000000</td>\n",
       "      <td>2950.0</td>\n",
       "      <td>0</td>\n",
       "      <td>98</td>\n",
       "      <td>0</td>\n",
       "      <td>98</td>\n",
       "      <td>2.0</td>\n",
       "    </tr>\n",
       "    <tr>\n",
       "      <th>23915</th>\n",
       "      <td>1</td>\n",
       "      <td>1.0</td>\n",
       "      <td>65</td>\n",
       "      <td>98</td>\n",
       "      <td>0.012215</td>\n",
       "      <td>1800.0</td>\n",
       "      <td>0</td>\n",
       "      <td>98</td>\n",
       "      <td>0</td>\n",
       "      <td>98</td>\n",
       "      <td>0.0</td>\n",
       "    </tr>\n",
       "    <tr>\n",
       "      <th>81460</th>\n",
       "      <td>1</td>\n",
       "      <td>1.0</td>\n",
       "      <td>30</td>\n",
       "      <td>98</td>\n",
       "      <td>0.000000</td>\n",
       "      <td>800.0</td>\n",
       "      <td>0</td>\n",
       "      <td>98</td>\n",
       "      <td>0</td>\n",
       "      <td>98</td>\n",
       "      <td>0.0</td>\n",
       "    </tr>\n",
       "    <tr>\n",
       "      <th>80341</th>\n",
       "      <td>0</td>\n",
       "      <td>1.0</td>\n",
       "      <td>34</td>\n",
       "      <td>98</td>\n",
       "      <td>0.010934</td>\n",
       "      <td>3200.0</td>\n",
       "      <td>0</td>\n",
       "      <td>98</td>\n",
       "      <td>0</td>\n",
       "      <td>98</td>\n",
       "      <td>0.0</td>\n",
       "    </tr>\n",
       "    <tr>\n",
       "      <th>3884</th>\n",
       "      <td>0</td>\n",
       "      <td>1.0</td>\n",
       "      <td>38</td>\n",
       "      <td>98</td>\n",
       "      <td>12.000000</td>\n",
       "      <td>NaN</td>\n",
       "      <td>0</td>\n",
       "      <td>98</td>\n",
       "      <td>0</td>\n",
       "      <td>98</td>\n",
       "      <td>0.0</td>\n",
       "    </tr>\n",
       "    <tr>\n",
       "      <th>76698</th>\n",
       "      <td>0</td>\n",
       "      <td>1.0</td>\n",
       "      <td>23</td>\n",
       "      <td>98</td>\n",
       "      <td>0.000000</td>\n",
       "      <td>NaN</td>\n",
       "      <td>0</td>\n",
       "      <td>98</td>\n",
       "      <td>0</td>\n",
       "      <td>98</td>\n",
       "      <td>NaN</td>\n",
       "    </tr>\n",
       "    <tr>\n",
       "      <th>29563</th>\n",
       "      <td>0</td>\n",
       "      <td>1.0</td>\n",
       "      <td>22</td>\n",
       "      <td>98</td>\n",
       "      <td>0.000000</td>\n",
       "      <td>NaN</td>\n",
       "      <td>0</td>\n",
       "      <td>98</td>\n",
       "      <td>0</td>\n",
       "      <td>98</td>\n",
       "      <td>0.0</td>\n",
       "    </tr>\n",
       "    <tr>\n",
       "      <th>7687</th>\n",
       "      <td>1</td>\n",
       "      <td>1.0</td>\n",
       "      <td>21</td>\n",
       "      <td>98</td>\n",
       "      <td>0.000000</td>\n",
       "      <td>NaN</td>\n",
       "      <td>0</td>\n",
       "      <td>98</td>\n",
       "      <td>0</td>\n",
       "      <td>98</td>\n",
       "      <td>0.0</td>\n",
       "    </tr>\n",
       "    <tr>\n",
       "      <th>28118</th>\n",
       "      <td>0</td>\n",
       "      <td>1.0</td>\n",
       "      <td>24</td>\n",
       "      <td>98</td>\n",
       "      <td>0.000000</td>\n",
       "      <td>1041.0</td>\n",
       "      <td>0</td>\n",
       "      <td>98</td>\n",
       "      <td>0</td>\n",
       "      <td>98</td>\n",
       "      <td>0.0</td>\n",
       "    </tr>\n",
       "    <tr>\n",
       "      <th>46381</th>\n",
       "      <td>1</td>\n",
       "      <td>1.0</td>\n",
       "      <td>26</td>\n",
       "      <td>98</td>\n",
       "      <td>28.000000</td>\n",
       "      <td>NaN</td>\n",
       "      <td>0</td>\n",
       "      <td>98</td>\n",
       "      <td>0</td>\n",
       "      <td>98</td>\n",
       "      <td>0.0</td>\n",
       "    </tr>\n",
       "    <tr>\n",
       "      <th>49698</th>\n",
       "      <td>1</td>\n",
       "      <td>1.0</td>\n",
       "      <td>30</td>\n",
       "      <td>98</td>\n",
       "      <td>0.000000</td>\n",
       "      <td>338.0</td>\n",
       "      <td>0</td>\n",
       "      <td>98</td>\n",
       "      <td>0</td>\n",
       "      <td>98</td>\n",
       "      <td>0.0</td>\n",
       "    </tr>\n",
       "    <tr>\n",
       "      <th>69663</th>\n",
       "      <td>1</td>\n",
       "      <td>1.0</td>\n",
       "      <td>22</td>\n",
       "      <td>98</td>\n",
       "      <td>0.000000</td>\n",
       "      <td>800.0</td>\n",
       "      <td>0</td>\n",
       "      <td>98</td>\n",
       "      <td>0</td>\n",
       "      <td>98</td>\n",
       "      <td>0.0</td>\n",
       "    </tr>\n",
       "  </tbody>\n",
       "</table>\n",
       "</div>"
      ],
      "text/plain": [
       "       inadimplente  util_linhas_inseguras  idade  vezes_passou_de_30_59_dias  \\\n",
       "21374             0                    1.0     37                          98   \n",
       "77887             1                    1.0     37                          98   \n",
       "12131             1                    1.0     50                          98   \n",
       "45814             1                    1.0     50                          98   \n",
       "98603             0                    1.0     52                          98   \n",
       "38540             0                    1.0     65                          98   \n",
       "62906             1                    1.0     47                          98   \n",
       "42751             0                    1.0     22                          98   \n",
       "28291             0                    1.0     45                          98   \n",
       "23915             1                    1.0     65                          98   \n",
       "81460             1                    1.0     30                          98   \n",
       "80341             0                    1.0     34                          98   \n",
       "3884              0                    1.0     38                          98   \n",
       "76698             0                    1.0     23                          98   \n",
       "29563             0                    1.0     22                          98   \n",
       "7687              1                    1.0     21                          98   \n",
       "28118             0                    1.0     24                          98   \n",
       "46381             1                    1.0     26                          98   \n",
       "49698             1                    1.0     30                          98   \n",
       "69663             1                    1.0     22                          98   \n",
       "\n",
       "       razao_debito  salario_mensal  numero_linhas_crdto_aberto  \\\n",
       "21374      0.000000             NaN                           0   \n",
       "77887      0.000000          6000.0                           0   \n",
       "12131      0.000000          1350.0                           0   \n",
       "45814      0.000000             NaN                           0   \n",
       "98603      0.000000          9016.0                           0   \n",
       "38540      0.125475           525.0                           0   \n",
       "62906      0.000000           600.0                           0   \n",
       "42751      0.000000           201.0                           0   \n",
       "28291      0.000000          2950.0                           0   \n",
       "23915      0.012215          1800.0                           0   \n",
       "81460      0.000000           800.0                           0   \n",
       "80341      0.010934          3200.0                           0   \n",
       "3884      12.000000             NaN                           0   \n",
       "76698      0.000000             NaN                           0   \n",
       "29563      0.000000             NaN                           0   \n",
       "7687       0.000000             NaN                           0   \n",
       "28118      0.000000          1041.0                           0   \n",
       "46381     28.000000             NaN                           0   \n",
       "49698      0.000000           338.0                           0   \n",
       "69663      0.000000           800.0                           0   \n",
       "\n",
       "       numero_vezes_passou_90_dias  numero_emprestimos_imobiliarios  \\\n",
       "21374                           98                                0   \n",
       "77887                           98                                0   \n",
       "12131                           98                                0   \n",
       "45814                           98                                0   \n",
       "98603                           98                                0   \n",
       "38540                           98                                0   \n",
       "62906                           98                                0   \n",
       "42751                           98                                0   \n",
       "28291                           98                                0   \n",
       "23915                           98                                0   \n",
       "81460                           98                                0   \n",
       "80341                           98                                0   \n",
       "3884                            98                                0   \n",
       "76698                           98                                0   \n",
       "29563                           98                                0   \n",
       "7687                            98                                0   \n",
       "28118                           98                                0   \n",
       "46381                           98                                0   \n",
       "49698                           98                                0   \n",
       "69663                           98                                0   \n",
       "\n",
       "       numero_de_vezes_que_passou_60_89_dias  numero_de_dependentes  \n",
       "21374                                     98                    0.0  \n",
       "77887                                     98                    1.0  \n",
       "12131                                     98                    0.0  \n",
       "45814                                     98                    0.0  \n",
       "98603                                     98                    2.0  \n",
       "38540                                     98                    0.0  \n",
       "62906                                     98                    0.0  \n",
       "42751                                     98                    0.0  \n",
       "28291                                     98                    2.0  \n",
       "23915                                     98                    0.0  \n",
       "81460                                     98                    0.0  \n",
       "80341                                     98                    0.0  \n",
       "3884                                      98                    0.0  \n",
       "76698                                     98                    NaN  \n",
       "29563                                     98                    0.0  \n",
       "7687                                      98                    0.0  \n",
       "28118                                     98                    0.0  \n",
       "46381                                     98                    0.0  \n",
       "49698                                     98                    0.0  \n",
       "69663                                     98                    0.0  "
      ]
     },
     "execution_count": 3,
     "metadata": {},
     "output_type": "execute_result"
    }
   ],
   "source": [
    "train_data.sort_values(\"numero_vezes_passou_90_dias\", ascending = False).head(20)"
   ]
  },
  {
   "cell_type": "markdown",
   "id": "d97faf49",
   "metadata": {},
   "source": [
    "Pode-se ver acima que as três colunas com informação sobre inadimplências do passado possuem uma certa dependência: Cada divida que passou dos 90 dias, também é contabilizada nas colunas 30-59 e 60-89.\n",
    "\n",
    "Isso não é necessariamente ruim, mas para treinar um modelo de Machine Learning é mais sensato eliminar essa dependência."
   ]
  },
  {
   "cell_type": "code",
   "execution_count": 4,
   "id": "1af99f25",
   "metadata": {
    "scrolled": false
   },
   "outputs": [],
   "source": [
    "train_data[\"numero_de_vezes_que_passou_60_89_dias\"]=train_data[\"numero_de_vezes_que_passou_60_89_dias\"]-train_data[\"numero_vezes_passou_90_dias\"]"
   ]
  },
  {
   "cell_type": "code",
   "execution_count": 5,
   "id": "55feb12d",
   "metadata": {},
   "outputs": [],
   "source": [
    "train_data[\"vezes_passou_de_30_59_dias\"]=train_data[\"vezes_passou_de_30_59_dias\"]-train_data[\"numero_de_vezes_que_passou_60_89_dias\"]"
   ]
  },
  {
   "cell_type": "markdown",
   "id": "84aaaeed",
   "metadata": {},
   "source": [
    "Sobraram apenas os valores nulos. Irei primeiramente eliminar as linhas com valores nulos e testar a acurácia do modelo\n"
   ]
  },
  {
   "cell_type": "code",
   "execution_count": 6,
   "id": "f702b56a",
   "metadata": {},
   "outputs": [
    {
     "name": "stdout",
     "output_type": "stream",
     "text": [
      "<class 'pandas.core.frame.DataFrame'>\n",
      "Int64Index: 88237 entries, 0 to 109999\n",
      "Data columns (total 11 columns):\n",
      " #   Column                                 Non-Null Count  Dtype  \n",
      "---  ------                                 --------------  -----  \n",
      " 0   inadimplente                           88237 non-null  int64  \n",
      " 1   util_linhas_inseguras                  88237 non-null  float64\n",
      " 2   idade                                  88237 non-null  int64  \n",
      " 3   vezes_passou_de_30_59_dias             88237 non-null  int64  \n",
      " 4   razao_debito                           88237 non-null  float64\n",
      " 5   salario_mensal                         88237 non-null  float64\n",
      " 6   numero_linhas_crdto_aberto             88237 non-null  int64  \n",
      " 7   numero_vezes_passou_90_dias            88237 non-null  int64  \n",
      " 8   numero_emprestimos_imobiliarios        88237 non-null  int64  \n",
      " 9   numero_de_vezes_que_passou_60_89_dias  88237 non-null  int64  \n",
      " 10  numero_de_dependentes                  88237 non-null  float64\n",
      "dtypes: float64(4), int64(7)\n",
      "memory usage: 8.1 MB\n"
     ]
    }
   ],
   "source": [
    "train_data_salary = train_data.dropna()\n",
    "train_data_salary.info()"
   ]
  },
  {
   "cell_type": "markdown",
   "id": "43b58706",
   "metadata": {},
   "source": [
    "## 2. Modelo"
   ]
  },
  {
   "cell_type": "markdown",
   "id": "70f239ba",
   "metadata": {},
   "source": [
    "### 2.1 Treinando o modelo"
   ]
  },
  {
   "cell_type": "code",
   "execution_count": 14,
   "id": "626fee67",
   "metadata": {},
   "outputs": [],
   "source": [
    "#dividindo os dados em teste (20%) e treino (80%)\n",
    "train, test, target_train, target_test = train_test_split(\n",
    "    train_data_salary.drop(\"inadimplente\", axis = 1),\n",
    "    train_data_salary[\"inadimplente\"],\n",
    "    test_size = 0.2,\n",
    "    random_state = 33\n",
    ")"
   ]
  },
  {
   "cell_type": "code",
   "execution_count": 15,
   "id": "ab012088",
   "metadata": {},
   "outputs": [],
   "source": [
    "#como o resultado desejado é uma classificação, usaremos um modelo baseado em arvore de decisão\n",
    "model1 = DecisionTreeClassifier()\n",
    "\n",
    "model1 = model1.fit(train, target_train)"
   ]
  },
  {
   "cell_type": "markdown",
   "id": "24597c6b",
   "metadata": {},
   "source": [
    "### 2.2 Avaliação do modelo"
   ]
  },
  {
   "cell_type": "code",
   "execution_count": 16,
   "id": "4be7dae0",
   "metadata": {},
   "outputs": [
    {
     "data": {
      "image/png": "[encoded data removed]",
      "text/plain": [
       "<Figure size 432x288 with 2 Axes>"
      ]
     },
     "metadata": {
      "needs_background": "light"
     },
     "output_type": "display_data"
    }
   ],
   "source": [
    "plot_confusion_matrix(model1, test, target_test)\n",
    "plt.show()"
   ]
  },
  {
   "cell_type": "code",
   "execution_count": 17,
   "id": "ea46742c",
   "metadata": {},
   "outputs": [
    {
     "data": {
      "text/plain": [
       "0.8932"
      ]
     },
     "execution_count": 17,
     "metadata": {},
     "output_type": "execute_result"
    }
   ],
   "source": [
    "#calculando a acurácia\n",
    "predicted = model1.predict(test)\n",
    "matrix = confusion_matrix(target_test, predicted)\n",
    "acc = round(np.diag(matrix).sum()/matrix.sum(),4)\n",
    "acc"
   ]
  },
  {
   "cell_type": "markdown",
   "id": "e6eca374",
   "metadata": {},
   "source": [
    "A acurácia deste modelo fica em torno de 89.2% e não está ruim, mas principalmente devido ao grande número de adimplentes no banco de dados. O número de acertos ao prever inadimplentes está bem abaixo dos falsos positivos e dos falsos negativos.\n",
    "\n",
    "Irei realizar outro teste, desta vez descartando a coluna de salários do dataframe original\n"
   ]
  },
  {
   "cell_type": "markdown",
   "id": "a5a04a40",
   "metadata": {},
   "source": [
    "## Excluindo os salários"
   ]
  },
  {
   "cell_type": "code",
   "execution_count": 18,
   "id": "26d5d077",
   "metadata": {},
   "outputs": [],
   "source": [
    "train_data_no_salary = train_data.drop(\"salario_mensal\", axis = 1).dropna()"
   ]
  },
  {
   "cell_type": "code",
   "execution_count": 35,
   "id": "daf47dee",
   "metadata": {},
   "outputs": [],
   "source": [
    "train, test, target_train, target_test = train_test_split(\n",
    "    train_data_no_salary.drop(\"inadimplente\", axis = 1),\n",
    "    train_data_no_salary[\"inadimplente\"],\n",
    "    test_size = 0.2,\n",
    "    random_state = 33\n",
    ")"
   ]
  },
  {
   "cell_type": "code",
   "execution_count": 36,
   "id": "6e19c663",
   "metadata": {},
   "outputs": [],
   "source": [
    "model2 = DecisionTreeClassifier()\n",
    "\n",
    "model2 = model2.fit(train, target_train)"
   ]
  },
  {
   "cell_type": "code",
   "execution_count": 37,
   "id": "6e562a25",
   "metadata": {},
   "outputs": [
    {
     "data": {
      "image/png": "[encoded data removed]",
      "text/plain": [
       "<Figure size 432x288 with 2 Axes>"
      ]
     },
     "metadata": {
      "needs_background": "light"
     },
     "output_type": "display_data"
    }
   ],
   "source": [
    "plot_confusion_matrix(model2, test, target_test)\n",
    "plt.show()"
   ]
  },
  {
   "cell_type": "code",
   "execution_count": 38,
   "id": "c3e3fd37",
   "metadata": {},
   "outputs": [
    {
     "data": {
      "text/plain": [
       "0.8945"
      ]
     },
     "execution_count": 38,
     "metadata": {},
     "output_type": "execute_result"
    }
   ],
   "source": [
    "predicted = model2.predict(test)\n",
    "matrix = confusion_matrix(target_test, predicted)\n",
    "acc = round(np.diag(matrix).sum()/matrix.sum(),4)\n",
    "acc"
   ]
  },
  {
   "cell_type": "markdown",
   "id": "9491f8b8",
   "metadata": {},
   "source": [
    "A acurácia subiu e fica em torno de 89.45%, o que é significativo dado o número maior de clientes testados, mas os falsos positivos e falsos negativos continuam muito maiores que o número de acertos ao prever inadimplentes.\n",
    "\n",
    "É possível que o modelo se torne mais preciso se remover-mos alguma coluna. Irei testar a performance do modelo removendo cada coluna, uma por vez."
   ]
  },
  {
   "cell_type": "code",
   "execution_count": 40,
   "id": "f46d0229",
   "metadata": {},
   "outputs": [
    {
     "data": {
      "text/plain": [
       "[0.2402, 0.2395, 0.2388, 0.2437, 0.2416, 0.2472, 0.2654, 0.243, 0.2577]"
      ]
     },
     "execution_count": 40,
     "metadata": {},
     "output_type": "execute_result"
    }
   ],
   "source": [
    "precision=[]\n",
    "for col in train_data_no_salary.columns:\n",
    "    if col == \"inadimplente\":\n",
    "        continue\n",
    "    train_data_iter = train_data_no_salary.drop(col, axis = 1)\n",
    "    train, test, target_train, target_test = train_test_split(\n",
    "        train_data_iter.drop(\"inadimplente\", axis = 1),\n",
    "        train_data_iter[\"inadimplente\"],\n",
    "        test_size = 0.2,\n",
    "        random_state = 33\n",
    "    )\n",
    "    model3 = DecisionTreeClassifier()\n",
    "    model3 = model3.fit(train, target_train)\n",
    "    predicted = model3.predict(test)\n",
    "    matrix = confusion_matrix(target_test, predicted)\n",
    "    precision.append(round(matrix[1,1]/sum(matrix[1,:]),4))\n",
    "    \n",
    "precision"
   ]
  },
  {
   "cell_type": "markdown",
   "id": "cdc45d3f",
   "metadata": {},
   "source": [
    "A lista acima representa o número de acertos do modelo dividido pelo número total (acertos mais erros) ao prever inadimplentes. Cada valor da lista está associado à remoção de uma das colunas. Os valores mais relevantes são os associados a remoção do número de empréstimos e do número de dependentes da base de dados. Vale a pena investigar mais atentamente a performance do modelo nessas condições.\n",
    "\n",
    "Irei remover primeiramente a coluna *numero_de_dependentes* pois assim eu posso aproveitar todos os clientes do banco de dados original, dando mais informação para o modelo treinar."
   ]
  },
  {
   "cell_type": "code",
   "execution_count": 59,
   "id": "efb3304d",
   "metadata": {},
   "outputs": [
    {
     "data": {
      "text/plain": [
       "<function matplotlib.pyplot.show(close=None, block=None)>"
      ]
     },
     "execution_count": 59,
     "metadata": {},
     "output_type": "execute_result"
    },
    {
     "data": {
      "image/png": "[encoded data removed]",
      "text/plain": [
       "<Figure size 432x288 with 2 Axes>"
      ]
     },
     "metadata": {
      "needs_background": "light"
     },
     "output_type": "display_data"
    }
   ],
   "source": [
    "train_data_no_dep = train_data.drop([\"numero_de_dependentes\",\"salario_mensal\"], axis = 1)\n",
    "train, test, target_train, target_test = train_test_split(\n",
    "    train_data_no_dep.drop(\"inadimplente\", axis = 1),\n",
    "    train_data_no_dep[\"inadimplente\"],\n",
    "    test_size = 0.2,\n",
    "    random_state = 33\n",
    ")\n",
    "model4 = DecisionTreeClassifier()\n",
    "model4 = model4.fit(train, target_train)\n",
    "predicted = model4.predict(test)\n",
    "matrix = confusion_matrix(target_test, predicted)\n",
    "\n",
    "plot_confusion_matrix(model4,test,target_test)\n",
    "plt.show"
   ]
  },
  {
   "cell_type": "code",
   "execution_count": 60,
   "id": "c89a34dd",
   "metadata": {},
   "outputs": [
    {
     "data": {
      "text/plain": [
       "0.8979"
      ]
     },
     "execution_count": 60,
     "metadata": {},
     "output_type": "execute_result"
    }
   ],
   "source": [
    "acc = round(np.diag(matrix).sum()/matrix.sum(),4)\n",
    "acc"
   ]
  },
  {
   "cell_type": "markdown",
   "id": "9923b0f9",
   "metadata": {},
   "source": [
    "O modelo agora possui uma acurácia em torno de 89.7% e a matriz de confusão está melhor que a anterior. Podemos testar a remoção de mais uma coluna. Outra coluna que parece influenciar pouco o resultado é a de empréstimos imobiliarios. Vamos ver como o modelo se sai removendo também essa coluna"
   ]
  },
  {
   "cell_type": "code",
   "execution_count": 68,
   "id": "44326791",
   "metadata": {},
   "outputs": [
    {
     "data": {
      "text/plain": [
       "<function matplotlib.pyplot.show(close=None, block=None)>"
      ]
     },
     "execution_count": 68,
     "metadata": {},
     "output_type": "execute_result"
    },
    {
     "data": {
      "image/png": "[encoded data removed]",
      "text/plain": [
       "<Figure size 432x288 with 2 Axes>"
      ]
     },
     "metadata": {
      "needs_background": "light"
     },
     "output_type": "display_data"
    }
   ],
   "source": [
    "train_data_no_re = train_data_no_dep.drop(\"numero_emprestimos_imobiliarios\", axis = 1)\n",
    "train, test, target_train, target_test = train_test_split(\n",
    "    train_data_no_re.drop(\"inadimplente\", axis = 1),\n",
    "    train_data_no_re[\"inadimplente\"],\n",
    "    test_size = 0.2,\n",
    "    random_state = 33\n",
    ")\n",
    "model5 = DecisionTreeClassifier()\n",
    "model5 = model5.fit(train, target_train)\n",
    "predicted = model5.predict(test)\n",
    "matrix = confusion_matrix(target_test, predicted)\n",
    "\n",
    "plot_confusion_matrix(model5,test,target_test)\n",
    "plt.show"
   ]
  },
  {
   "cell_type": "code",
   "execution_count": 69,
   "id": "d5e8a470",
   "metadata": {},
   "outputs": [
    {
     "data": {
      "text/plain": [
       "0.8967"
      ]
     },
     "execution_count": 69,
     "metadata": {},
     "output_type": "execute_result"
    }
   ],
   "source": [
    "acc = round(np.diag(matrix).sum()/matrix.sum(),4)\n",
    "acc"
   ]
  },
  {
   "cell_type": "code",
   "execution_count": null,
   "id": "eb265f28",
   "metadata": {},
   "outputs": [],
   "source": [
    "train_data_no_dep"
   ]
  },
  {
   "cell_type": "markdown",
   "id": "a504c781",
   "metadata": {},
   "source": [
    "Desta vez a acurácia do modelo caiu. Remover o numero de empréstimos prejudica o aprendizado do modelo. O modelo número 4 provavelmente é o melhor possível seguindo nessa estratégia. Para confirmar, irei novamente calcular a acurácia removendo uma coluna por vez"
   ]
  },
  {
   "cell_type": "code",
   "execution_count": 72,
   "id": "3c14d806",
   "metadata": {},
   "outputs": [
    {
     "data": {
      "text/plain": [
       "[0.8979, 0.9015, 0.8935, 0.9039, 0.8995, 0.8949, 0.8956, 0.8968]"
      ]
     },
     "execution_count": 72,
     "metadata": {},
     "output_type": "execute_result"
    }
   ],
   "source": [
    "acc_list=[]\n",
    "for col in train_data_no_dep.columns:\n",
    "    if col == \"inadimplente\":\n",
    "        continue\n",
    "    train_data_iter = train_data_no_dep.drop(col, axis = 1)\n",
    "    train, test, target_train, target_test = train_test_split(\n",
    "        train_data_iter.drop(\"inadimplente\", axis = 1),\n",
    "        train_data_iter[\"inadimplente\"],\n",
    "        test_size = 0.2,\n",
    "        random_state = 33\n",
    "    )\n",
    "    model = DecisionTreeClassifier()\n",
    "    model = model.fit(train, target_train)\n",
    "    predicted = model.predict(test)\n",
    "    matrix = confusion_matrix(target_test, predicted)\n",
    "    acc_list.append(round(np.diag(matrix).sum()/matrix.sum(),4))\n",
    "    \n",
    "acc_list"
   ]
  },
  {
   "cell_type": "markdown",
   "id": "3e9724db",
   "metadata": {},
   "source": [
    "Dois valores da lista passam dos 90% na maioria dos testes, representando a remoção das colunas *idade* e *razao_debito*. irei calcular a matriz removendo cada uma delas, e mais um removendo as duas."
   ]
  },
  {
   "cell_type": "code",
   "execution_count": 75,
   "id": "c759aa6b",
   "metadata": {
    "scrolled": true
   },
   "outputs": [
    {
     "data": {
      "image/png": "[encoded data removed]",
      "text/plain": [
       "<Figure size 432x288 with 2 Axes>"
      ]
     },
     "metadata": {
      "needs_background": "light"
     },
     "output_type": "display_data"
    }
   ],
   "source": [
    "train_data_no_age = train_data_no_dep.drop(\"idade\", axis = 1)\n",
    "train, test, target_train, target_test = train_test_split(\n",
    "    train_data_no_age.drop(\"inadimplente\", axis = 1),\n",
    "    train_data_no_age[\"inadimplente\"],\n",
    "    test_size = 0.2,\n",
    "    random_state = 33\n",
    ")\n",
    "model61 = DecisionTreeClassifier()\n",
    "model61 = model61.fit(train, target_train)\n",
    "predicted = model61.predict(test)\n",
    "matrix = confusion_matrix(target_test, predicted)\n",
    "\n",
    "plot_confusion_matrix(model61,test,target_test)\n",
    "plt.show\n",
    "\n",
    "acc_model6 = []\n",
    "acc_model6.append(round(np.diag(matrix).sum()/matrix.sum(),4))"
   ]
  },
  {
   "cell_type": "code",
   "execution_count": 76,
   "id": "a2ec424e",
   "metadata": {
    "scrolled": true
   },
   "outputs": [
    {
     "data": {
      "text/plain": [
       "<function matplotlib.pyplot.show(close=None, block=None)>"
      ]
     },
     "execution_count": 76,
     "metadata": {},
     "output_type": "execute_result"
    },
    {
     "data": {
      "image/png": "[encoded data removed]",
      "text/plain": [
       "<Figure size 432x288 with 2 Axes>"
      ]
     },
     "metadata": {
      "needs_background": "light"
     },
     "output_type": "display_data"
    }
   ],
   "source": [
    "train_data_no_rd = train_data_no_dep.drop(\"razao_debito\", axis = 1)\n",
    "train, test, target_train, target_test = train_test_split(\n",
    "    train_data_no_rd.drop(\"inadimplente\", axis = 1),\n",
    "    train_data_no_rd[\"inadimplente\"],\n",
    "    test_size = 0.2,\n",
    "    random_state = 33\n",
    ")\n",
    "model62 = DecisionTreeClassifier()\n",
    "model62 = model62.fit(train, target_train)\n",
    "predicted = model62.predict(test)\n",
    "matrix = confusion_matrix(target_test, predicted)\n",
    "acc_model6.append(round(np.diag(matrix).sum()/matrix.sum(),4))\n",
    "plot_confusion_matrix(model62,test,target_test)\n",
    "plt.show"
   ]
  },
  {
   "cell_type": "code",
   "execution_count": 77,
   "id": "c3f82d6a",
   "metadata": {},
   "outputs": [
    {
     "data": {
      "text/plain": [
       "[0.9004, 0.9044, 0.9028]"
      ]
     },
     "execution_count": 77,
     "metadata": {},
     "output_type": "execute_result"
    },
    {
     "data": {
      "image/png": "[encoded data removed]",
      "text/plain": [
       "<Figure size 432x288 with 2 Axes>"
      ]
     },
     "metadata": {
      "needs_background": "light"
     },
     "output_type": "display_data"
    }
   ],
   "source": [
    "train_data_last = train_data_no_age.drop(\"razao_debito\", axis = 1)\n",
    "train, test, target_train, target_test = train_test_split(\n",
    "    train_data_last.drop(\"inadimplente\", axis = 1),\n",
    "    train_data_last[\"inadimplente\"],\n",
    "    test_size = 0.2,\n",
    "    random_state = 33\n",
    ")\n",
    "model63 = DecisionTreeClassifier()\n",
    "model63 = model63.fit(train, target_train)\n",
    "predicted = model63.predict(test)\n",
    "matrix = confusion_matrix(target_test, predicted)\n",
    "acc_model6.append(round(np.diag(matrix).sum()/matrix.sum(),4))\n",
    "plot_confusion_matrix(model63,test,target_test)\n",
    "plt.show\n",
    "acc_model6"
   ]
  },
  {
   "cell_type": "markdown",
   "id": "131ced14",
   "metadata": {},
   "source": [
    "**Remover a coluna *razao_debito* (alem das outras duas) forneceu o melhor resultado.**"
   ]
  },
  {
   "cell_type": "markdown",
   "id": "37509008",
   "metadata": {},
   "source": [
    "---"
   ]
  },
  {
   "cell_type": "markdown",
   "id": "2a8f3a75",
   "metadata": {},
   "source": [
    "## Recapitulando"
   ]
  },
  {
   "cell_type": "markdown",
   "id": "cba8d116",
   "metadata": {},
   "source": [
    "A forma com a qual eu propuz melhorar a análise dos dados foi removendo colunas com informação que não ajuda o aprendizado do modelo de arvore de decisão. Ao todo as colunas removidas foram a do salário, a da razão entre dívidas e patrimônio e a do número de dependentes. Fazer essas alterações elevaram a acurácia do modelo de 89.2% para 90.4%."
   ]
  },
  {
   "cell_type": "markdown",
   "id": "c773aec3",
   "metadata": {},
   "source": [
    "---"
   ]
  },
  {
   "cell_type": "markdown",
   "id": "93c104ea",
   "metadata": {},
   "source": [
    "## Aplicando o modelo a um novo conjunto de dados"
   ]
  },
  {
   "cell_type": "markdown",
   "id": "7d536fad",
   "metadata": {},
   "source": [
    "A etapa final deste case técnico é aplicar o modelo treinado a um novo banco de dados."
   ]
  },
  {
   "cell_type": "code",
   "execution_count": 78,
   "id": "0244ad4a",
   "metadata": {},
   "outputs": [
    {
     "name": "stdout",
     "output_type": "stream",
     "text": [
      "<class 'pandas.core.frame.DataFrame'>\n",
      "RangeIndex: 40000 entries, 0 to 39999\n",
      "Data columns (total 10 columns):\n",
      " #   Column                                 Non-Null Count  Dtype  \n",
      "---  ------                                 --------------  -----  \n",
      " 0   util_linhas_inseguras                  40000 non-null  float64\n",
      " 1   idade                                  40000 non-null  int64  \n",
      " 2   vezes_passou_de_30_59_dias             40000 non-null  int64  \n",
      " 3   razao_debito                           40000 non-null  float64\n",
      " 4   salario_mensal                         32032 non-null  float64\n",
      " 5   numero_linhas_crdto_aberto             40000 non-null  int64  \n",
      " 6   numero_vezes_passou_90_dias            40000 non-null  int64  \n",
      " 7   numero_emprestimos_imobiliarios        40000 non-null  int64  \n",
      " 8   numero_de_vezes_que_passou_60_89_dias  40000 non-null  int64  \n",
      " 9   numero_de_dependentes                  38954 non-null  float64\n",
      "dtypes: float64(4), int64(6)\n",
      "memory usage: 3.1 MB\n"
     ]
    }
   ],
   "source": [
    "test_data = pd.read_csv(\"teste.csv\")\n",
    "test_data.info()"
   ]
  },
  {
   "cell_type": "markdown",
   "id": "8648acc0",
   "metadata": {},
   "source": [
    "**Vamos pré-peprarar os dados e deletar as mesmas colunas que deletamos no treino.**"
   ]
  },
  {
   "cell_type": "code",
   "execution_count": 79,
   "id": "fe448a1e",
   "metadata": {},
   "outputs": [],
   "source": [
    "test_data[\"numero_de_vezes_que_passou_60_89_dias\"]=test_data[\"numero_de_vezes_que_passou_60_89_dias\"]-test_data[\"numero_vezes_passou_90_dias\"]\n",
    "test_data[\"vezes_passou_de_30_59_dias\"]=test_data[\"vezes_passou_de_30_59_dias\"]-test_data[\"numero_de_vezes_que_passou_60_89_dias\"]"
   ]
  },
  {
   "cell_type": "code",
   "execution_count": 80,
   "id": "9284372a",
   "metadata": {},
   "outputs": [],
   "source": [
    "test_data_ready = test_data.drop([\"salario_mensal\",\"numero_de_dependentes\",\"razao_debito\"], axis = 1)"
   ]
  },
  {
   "cell_type": "code",
   "execution_count": 81,
   "id": "6442d3f8",
   "metadata": {},
   "outputs": [
    {
     "data": {
      "text/html": [
       "<div>\n",
       "<style scoped>\n",
       "    .dataframe tbody tr th:only-of-type {\n",
       "        vertical-align: middle;\n",
       "    }\n",
       "\n",
       "    .dataframe tbody tr th {\n",
       "        vertical-align: top;\n",
       "    }\n",
       "\n",
       "    .dataframe thead th {\n",
       "        text-align: right;\n",
       "    }\n",
       "</style>\n",
       "<table border=\"1\" class=\"dataframe\">\n",
       "  <thead>\n",
       "    <tr style=\"text-align: right;\">\n",
       "      <th></th>\n",
       "      <th>util_linhas_inseguras</th>\n",
       "      <th>idade</th>\n",
       "      <th>vezes_passou_de_30_59_dias</th>\n",
       "      <th>numero_linhas_crdto_aberto</th>\n",
       "      <th>numero_vezes_passou_90_dias</th>\n",
       "      <th>numero_emprestimos_imobiliarios</th>\n",
       "      <th>numero_de_vezes_que_passou_60_89_dias</th>\n",
       "    </tr>\n",
       "  </thead>\n",
       "  <tbody>\n",
       "    <tr>\n",
       "      <th>0</th>\n",
       "      <td>0.025849</td>\n",
       "      <td>62</td>\n",
       "      <td>0</td>\n",
       "      <td>3</td>\n",
       "      <td>0</td>\n",
       "      <td>2</td>\n",
       "      <td>0</td>\n",
       "    </tr>\n",
       "    <tr>\n",
       "      <th>1</th>\n",
       "      <td>0.667083</td>\n",
       "      <td>55</td>\n",
       "      <td>0</td>\n",
       "      <td>3</td>\n",
       "      <td>0</td>\n",
       "      <td>0</td>\n",
       "      <td>0</td>\n",
       "    </tr>\n",
       "    <tr>\n",
       "      <th>2</th>\n",
       "      <td>0.007093</td>\n",
       "      <td>44</td>\n",
       "      <td>0</td>\n",
       "      <td>20</td>\n",
       "      <td>0</td>\n",
       "      <td>1</td>\n",
       "      <td>0</td>\n",
       "    </tr>\n",
       "    <tr>\n",
       "      <th>3</th>\n",
       "      <td>0.091213</td>\n",
       "      <td>54</td>\n",
       "      <td>-1</td>\n",
       "      <td>15</td>\n",
       "      <td>0</td>\n",
       "      <td>1</td>\n",
       "      <td>1</td>\n",
       "    </tr>\n",
       "    <tr>\n",
       "      <th>4</th>\n",
       "      <td>0.112680</td>\n",
       "      <td>54</td>\n",
       "      <td>0</td>\n",
       "      <td>3</td>\n",
       "      <td>0</td>\n",
       "      <td>0</td>\n",
       "      <td>0</td>\n",
       "    </tr>\n",
       "    <tr>\n",
       "      <th>...</th>\n",
       "      <td>...</td>\n",
       "      <td>...</td>\n",
       "      <td>...</td>\n",
       "      <td>...</td>\n",
       "      <td>...</td>\n",
       "      <td>...</td>\n",
       "      <td>...</td>\n",
       "    </tr>\n",
       "    <tr>\n",
       "      <th>39995</th>\n",
       "      <td>0.000000</td>\n",
       "      <td>68</td>\n",
       "      <td>2</td>\n",
       "      <td>9</td>\n",
       "      <td>1</td>\n",
       "      <td>0</td>\n",
       "      <td>-1</td>\n",
       "    </tr>\n",
       "    <tr>\n",
       "      <th>39996</th>\n",
       "      <td>0.061117</td>\n",
       "      <td>84</td>\n",
       "      <td>0</td>\n",
       "      <td>7</td>\n",
       "      <td>0</td>\n",
       "      <td>0</td>\n",
       "      <td>0</td>\n",
       "    </tr>\n",
       "    <tr>\n",
       "      <th>39997</th>\n",
       "      <td>0.817745</td>\n",
       "      <td>70</td>\n",
       "      <td>0</td>\n",
       "      <td>17</td>\n",
       "      <td>0</td>\n",
       "      <td>2</td>\n",
       "      <td>0</td>\n",
       "    </tr>\n",
       "    <tr>\n",
       "      <th>39998</th>\n",
       "      <td>0.106139</td>\n",
       "      <td>64</td>\n",
       "      <td>2</td>\n",
       "      <td>12</td>\n",
       "      <td>0</td>\n",
       "      <td>4</td>\n",
       "      <td>0</td>\n",
       "    </tr>\n",
       "    <tr>\n",
       "      <th>39999</th>\n",
       "      <td>1.000000</td>\n",
       "      <td>28</td>\n",
       "      <td>1</td>\n",
       "      <td>0</td>\n",
       "      <td>1</td>\n",
       "      <td>0</td>\n",
       "      <td>-1</td>\n",
       "    </tr>\n",
       "  </tbody>\n",
       "</table>\n",
       "<p>40000 rows × 7 columns</p>\n",
       "</div>"
      ],
      "text/plain": [
       "       util_linhas_inseguras  idade  vezes_passou_de_30_59_dias  \\\n",
       "0                   0.025849     62                           0   \n",
       "1                   0.667083     55                           0   \n",
       "2                   0.007093     44                           0   \n",
       "3                   0.091213     54                          -1   \n",
       "4                   0.112680     54                           0   \n",
       "...                      ...    ...                         ...   \n",
       "39995               0.000000     68                           2   \n",
       "39996               0.061117     84                           0   \n",
       "39997               0.817745     70                           0   \n",
       "39998               0.106139     64                           2   \n",
       "39999               1.000000     28                           1   \n",
       "\n",
       "       numero_linhas_crdto_aberto  numero_vezes_passou_90_dias  \\\n",
       "0                               3                            0   \n",
       "1                               3                            0   \n",
       "2                              20                            0   \n",
       "3                              15                            0   \n",
       "4                               3                            0   \n",
       "...                           ...                          ...   \n",
       "39995                           9                            1   \n",
       "39996                           7                            0   \n",
       "39997                          17                            0   \n",
       "39998                          12                            0   \n",
       "39999                           0                            1   \n",
       "\n",
       "       numero_emprestimos_imobiliarios  numero_de_vezes_que_passou_60_89_dias  \n",
       "0                                    2                                      0  \n",
       "1                                    0                                      0  \n",
       "2                                    1                                      0  \n",
       "3                                    1                                      1  \n",
       "4                                    0                                      0  \n",
       "...                                ...                                    ...  \n",
       "39995                                0                                     -1  \n",
       "39996                                0                                      0  \n",
       "39997                                2                                      0  \n",
       "39998                                4                                      0  \n",
       "39999                                0                                     -1  \n",
       "\n",
       "[40000 rows x 7 columns]"
      ]
     },
     "execution_count": 81,
     "metadata": {},
     "output_type": "execute_result"
    }
   ],
   "source": [
    "test_data_ready"
   ]
  },
  {
   "cell_type": "markdown",
   "id": "d40c6bc7",
   "metadata": {},
   "source": [
    "**Com os dados prontos, vamos aplicar o melhor modelo obitido nas etapas anteriores (model62) e predizer quais desses clientes se tornarão inadimplentes**"
   ]
  },
  {
   "cell_type": "code",
   "execution_count": 85,
   "id": "25d2e6ca",
   "metadata": {},
   "outputs": [],
   "source": [
    "predicted = model62.predict(test_data_ready)"
   ]
  },
  {
   "cell_type": "code",
   "execution_count": 86,
   "id": "6049e727",
   "metadata": {},
   "outputs": [
    {
     "data": {
      "text/plain": [
       "array([0, 0, 0, ..., 1, 0, 0], dtype=int64)"
      ]
     },
     "execution_count": 86,
     "metadata": {},
     "output_type": "execute_result"
    }
   ],
   "source": [
    "predicted"
   ]
  },
  {
   "cell_type": "markdown",
   "id": "e85cb871",
   "metadata": {},
   "source": [
    "**Por fim vamos unir essa previsão aos dados de teste em um unico arquivo csv**"
   ]
  },
  {
   "cell_type": "code",
   "execution_count": 87,
   "id": "8f5dfb2f",
   "metadata": {},
   "outputs": [],
   "source": [
    "predicted_df = pd.DataFrame(predicted.T, columns = ['inadimplente'])"
   ]
  },
  {
   "cell_type": "code",
   "execution_count": 88,
   "id": "5ae46b63",
   "metadata": {
    "scrolled": true
   },
   "outputs": [
    {
     "data": {
      "text/html": [
       "<div>\n",
       "<style scoped>\n",
       "    .dataframe tbody tr th:only-of-type {\n",
       "        vertical-align: middle;\n",
       "    }\n",
       "\n",
       "    .dataframe tbody tr th {\n",
       "        vertical-align: top;\n",
       "    }\n",
       "\n",
       "    .dataframe thead th {\n",
       "        text-align: right;\n",
       "    }\n",
       "</style>\n",
       "<table border=\"1\" class=\"dataframe\">\n",
       "  <thead>\n",
       "    <tr style=\"text-align: right;\">\n",
       "      <th></th>\n",
       "      <th>inadimplente</th>\n",
       "      <th>util_linhas_inseguras</th>\n",
       "      <th>idade</th>\n",
       "      <th>vezes_passou_de_30_59_dias</th>\n",
       "      <th>razao_debito</th>\n",
       "      <th>salario_mensal</th>\n",
       "      <th>numero_linhas_crdto_aberto</th>\n",
       "      <th>numero_vezes_passou_90_dias</th>\n",
       "      <th>numero_emprestimos_imobiliarios</th>\n",
       "      <th>numero_de_vezes_que_passou_60_89_dias</th>\n",
       "      <th>numero_de_dependentes</th>\n",
       "    </tr>\n",
       "  </thead>\n",
       "  <tbody>\n",
       "    <tr>\n",
       "      <th>0</th>\n",
       "      <td>0</td>\n",
       "      <td>0.025849</td>\n",
       "      <td>62</td>\n",
       "      <td>0</td>\n",
       "      <td>0.081775</td>\n",
       "      <td>8180.0</td>\n",
       "      <td>3</td>\n",
       "      <td>0</td>\n",
       "      <td>2</td>\n",
       "      <td>0</td>\n",
       "      <td>0.0</td>\n",
       "    </tr>\n",
       "    <tr>\n",
       "      <th>1</th>\n",
       "      <td>0</td>\n",
       "      <td>0.667083</td>\n",
       "      <td>55</td>\n",
       "      <td>0</td>\n",
       "      <td>0.153112</td>\n",
       "      <td>2200.0</td>\n",
       "      <td>3</td>\n",
       "      <td>0</td>\n",
       "      <td>0</td>\n",
       "      <td>0</td>\n",
       "      <td>0.0</td>\n",
       "    </tr>\n",
       "    <tr>\n",
       "      <th>2</th>\n",
       "      <td>0</td>\n",
       "      <td>0.007093</td>\n",
       "      <td>44</td>\n",
       "      <td>0</td>\n",
       "      <td>0.148800</td>\n",
       "      <td>7499.0</td>\n",
       "      <td>20</td>\n",
       "      <td>0</td>\n",
       "      <td>1</td>\n",
       "      <td>0</td>\n",
       "      <td>0.0</td>\n",
       "    </tr>\n",
       "    <tr>\n",
       "      <th>3</th>\n",
       "      <td>0</td>\n",
       "      <td>0.091213</td>\n",
       "      <td>54</td>\n",
       "      <td>-1</td>\n",
       "      <td>0.351635</td>\n",
       "      <td>5900.0</td>\n",
       "      <td>15</td>\n",
       "      <td>0</td>\n",
       "      <td>1</td>\n",
       "      <td>1</td>\n",
       "      <td>0.0</td>\n",
       "    </tr>\n",
       "    <tr>\n",
       "      <th>4</th>\n",
       "      <td>0</td>\n",
       "      <td>0.112680</td>\n",
       "      <td>54</td>\n",
       "      <td>0</td>\n",
       "      <td>0.065959</td>\n",
       "      <td>2167.0</td>\n",
       "      <td>3</td>\n",
       "      <td>0</td>\n",
       "      <td>0</td>\n",
       "      <td>0</td>\n",
       "      <td>0.0</td>\n",
       "    </tr>\n",
       "    <tr>\n",
       "      <th>...</th>\n",
       "      <td>...</td>\n",
       "      <td>...</td>\n",
       "      <td>...</td>\n",
       "      <td>...</td>\n",
       "      <td>...</td>\n",
       "      <td>...</td>\n",
       "      <td>...</td>\n",
       "      <td>...</td>\n",
       "      <td>...</td>\n",
       "      <td>...</td>\n",
       "      <td>...</td>\n",
       "    </tr>\n",
       "    <tr>\n",
       "      <th>39995</th>\n",
       "      <td>0</td>\n",
       "      <td>0.000000</td>\n",
       "      <td>68</td>\n",
       "      <td>2</td>\n",
       "      <td>0.062858</td>\n",
       "      <td>10833.0</td>\n",
       "      <td>9</td>\n",
       "      <td>1</td>\n",
       "      <td>0</td>\n",
       "      <td>-1</td>\n",
       "      <td>0.0</td>\n",
       "    </tr>\n",
       "    <tr>\n",
       "      <th>39996</th>\n",
       "      <td>0</td>\n",
       "      <td>0.061117</td>\n",
       "      <td>84</td>\n",
       "      <td>0</td>\n",
       "      <td>0.013598</td>\n",
       "      <td>8456.0</td>\n",
       "      <td>7</td>\n",
       "      <td>0</td>\n",
       "      <td>0</td>\n",
       "      <td>0</td>\n",
       "      <td>0.0</td>\n",
       "    </tr>\n",
       "    <tr>\n",
       "      <th>39997</th>\n",
       "      <td>1</td>\n",
       "      <td>0.817745</td>\n",
       "      <td>70</td>\n",
       "      <td>0</td>\n",
       "      <td>0.663056</td>\n",
       "      <td>6000.0</td>\n",
       "      <td>17</td>\n",
       "      <td>0</td>\n",
       "      <td>2</td>\n",
       "      <td>0</td>\n",
       "      <td>0.0</td>\n",
       "    </tr>\n",
       "    <tr>\n",
       "      <th>39998</th>\n",
       "      <td>0</td>\n",
       "      <td>0.106139</td>\n",
       "      <td>64</td>\n",
       "      <td>2</td>\n",
       "      <td>0.865438</td>\n",
       "      <td>5045.0</td>\n",
       "      <td>12</td>\n",
       "      <td>0</td>\n",
       "      <td>4</td>\n",
       "      <td>0</td>\n",
       "      <td>0.0</td>\n",
       "    </tr>\n",
       "    <tr>\n",
       "      <th>39999</th>\n",
       "      <td>0</td>\n",
       "      <td>1.000000</td>\n",
       "      <td>28</td>\n",
       "      <td>1</td>\n",
       "      <td>0.002285</td>\n",
       "      <td>3500.0</td>\n",
       "      <td>0</td>\n",
       "      <td>1</td>\n",
       "      <td>0</td>\n",
       "      <td>-1</td>\n",
       "      <td>0.0</td>\n",
       "    </tr>\n",
       "  </tbody>\n",
       "</table>\n",
       "<p>40000 rows × 11 columns</p>\n",
       "</div>"
      ],
      "text/plain": [
       "       inadimplente  util_linhas_inseguras  idade  vezes_passou_de_30_59_dias  \\\n",
       "0                 0               0.025849     62                           0   \n",
       "1                 0               0.667083     55                           0   \n",
       "2                 0               0.007093     44                           0   \n",
       "3                 0               0.091213     54                          -1   \n",
       "4                 0               0.112680     54                           0   \n",
       "...             ...                    ...    ...                         ...   \n",
       "39995             0               0.000000     68                           2   \n",
       "39996             0               0.061117     84                           0   \n",
       "39997             1               0.817745     70                           0   \n",
       "39998             0               0.106139     64                           2   \n",
       "39999             0               1.000000     28                           1   \n",
       "\n",
       "       razao_debito  salario_mensal  numero_linhas_crdto_aberto  \\\n",
       "0          0.081775          8180.0                           3   \n",
       "1          0.153112          2200.0                           3   \n",
       "2          0.148800          7499.0                          20   \n",
       "3          0.351635          5900.0                          15   \n",
       "4          0.065959          2167.0                           3   \n",
       "...             ...             ...                         ...   \n",
       "39995      0.062858         10833.0                           9   \n",
       "39996      0.013598          8456.0                           7   \n",
       "39997      0.663056          6000.0                          17   \n",
       "39998      0.865438          5045.0                          12   \n",
       "39999      0.002285          3500.0                           0   \n",
       "\n",
       "       numero_vezes_passou_90_dias  numero_emprestimos_imobiliarios  \\\n",
       "0                                0                                2   \n",
       "1                                0                                0   \n",
       "2                                0                                1   \n",
       "3                                0                                1   \n",
       "4                                0                                0   \n",
       "...                            ...                              ...   \n",
       "39995                            1                                0   \n",
       "39996                            0                                0   \n",
       "39997                            0                                2   \n",
       "39998                            0                                4   \n",
       "39999                            1                                0   \n",
       "\n",
       "       numero_de_vezes_que_passou_60_89_dias  numero_de_dependentes  \n",
       "0                                          0                    0.0  \n",
       "1                                          0                    0.0  \n",
       "2                                          0                    0.0  \n",
       "3                                          1                    0.0  \n",
       "4                                          0                    0.0  \n",
       "...                                      ...                    ...  \n",
       "39995                                     -1                    0.0  \n",
       "39996                                      0                    0.0  \n",
       "39997                                      0                    0.0  \n",
       "39998                                      0                    0.0  \n",
       "39999                                     -1                    0.0  \n",
       "\n",
       "[40000 rows x 11 columns]"
      ]
     },
     "execution_count": 88,
     "metadata": {},
     "output_type": "execute_result"
    }
   ],
   "source": [
    "final_df = pd.concat([predicted_df, test_data], axis = 1)\n",
    "final_df"
   ]
  },
  {
   "cell_type": "code",
   "execution_count": 90,
   "id": "f693f600",
   "metadata": {},
   "outputs": [],
   "source": [
    "final_csv = final_df.to_csv(index=False, sep = ',')\n",
    "with open(file = 'teste_completo.csv', mode = 'w', encoding = 'utf8',newline = '\\n') as file:\n",
    "    file.write(final_csv)"
   ]
  },
  {
   "cell_type": "code",
   "execution_count": null,
   "id": "e55aab9f",
   "metadata": {},
   "outputs": [],
   "source": []
  }
 ],
 "metadata": {
  "kernelspec": {
   "display_name": "Python 3",
   "language": "python",
   "name": "python3"
  },
  "language_info": {
   "codemirror_mode": {
    "name": "ipython",
    "version": 3
   },
   "file_extension": ".py",
   "mimetype": "text/x-python",
   "name": "python",
   "nbconvert_exporter": "python",
   "pygments_lexer": "ipython3",
   "version": "3.8.8"
  }
 },
 "nbformat": 4,
 "nbformat_minor": 5
}
